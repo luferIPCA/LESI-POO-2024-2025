{
  "cells": [
    {
      "cell_type": "markdown",
      "metadata": {
        "id": "view-in-github",
        "colab_type": "text"
      },
      "source": [
        "<a href=\"https://colab.research.google.com/github/luferIPCA/LESI-POO-2024-2025/blob/main/4_Spliting_Dataset.ipynb\" target=\"_parent\"><img src=\"https://colab.research.google.com/assets/colab-badge.svg\" alt=\"Open In Colab\"/></a>"
      ]
    },
    {
      "cell_type": "markdown",
      "metadata": {
        "id": "c1kf9qddTM4D"
      },
      "source": [
        "# Masters' in Applied Artificial Intelligence\n",
        "## Machine Learning Algorithms Course\n",
        "\n",
        "Notebooks for MLA course\n",
        "\n",
        "by [*lufer*](mailto:lufer@ipca.pt)\n",
        "\n",
        "(vers 2.0)\n",
        "\n",
        "---\n",
        "\n"
      ]
    },
    {
      "cell_type": "markdown",
      "metadata": {
        "id": "3yc6mD0jVeWN"
      },
      "source": [
        "# ML Modelling - Part I\n",
        "\n",
        "**Contents**:\n",
        "\n",
        "1.  Spliting Datasets\n"
      ]
    },
    {
      "cell_type": "code",
      "source": [
        "from google.colab import drive\n",
        "drive.mount('/content/drive')"
      ],
      "metadata": {
        "id": "4I_CJ_1fq-lH"
      },
      "execution_count": null,
      "outputs": []
    },
    {
      "cell_type": "markdown",
      "metadata": {
        "id": "GP-NymupVL02"
      },
      "source": [
        "## Environment preparation\n"
      ]
    },
    {
      "cell_type": "markdown",
      "metadata": {
        "id": "-3Rm857IVoPe"
      },
      "source": [
        "### Importing necessary Libraries"
      ]
    },
    {
      "cell_type": "code",
      "execution_count": null,
      "metadata": {
        "id": "vA1MzNI4TU_q"
      },
      "outputs": [],
      "source": [
        "import pandas as pd\n",
        "import numpy as np\n",
        "\n",
        "#visualization\n",
        "import matplotlib.pyplot as plt\n",
        "import seaborn as sns\n",
        "\n",
        "from sklearn.model_selection import train_test_split"
      ]
    },
    {
      "cell_type": "markdown",
      "metadata": {
        "id": "bDLxcgMwJEYA"
      },
      "source": [
        "Mounting Drive"
      ]
    },
    {
      "cell_type": "code",
      "execution_count": null,
      "metadata": {
        "id": "qxFY0ypTJJK9"
      },
      "outputs": [],
      "source": [
        "\n",
        "from google.colab import drive\n",
        "\n",
        "# it will ask for your google drive credentiaals\n",
        "drive.mount('/content/gDrive/', force_remount=True)"
      ]
    },
    {
      "cell_type": "code",
      "source": [
        "#check current pwd\n",
        "#import os\n",
        "#print(os.getcwd())"
      ],
      "metadata": {
        "id": "Q0rZqXSFJsni"
      },
      "execution_count": null,
      "outputs": []
    },
    {
      "cell_type": "markdown",
      "metadata": {
        "id": "IrlsXAs4I0AZ"
      },
      "source": [
        "*Loading dataset*"
      ]
    },
    {
      "cell_type": "code",
      "execution_count": null,
      "metadata": {
        "id": "IRpURt1tI2Sf"
      },
      "outputs": [],
      "source": [
        "\n",
        "import os\n",
        "#print(os.getcwd())\n",
        "\n",
        "filePath='/content/drive/MyDrive/Colab Notebooks/MIA - ML - 2024-2025/Datasets/'\n",
        "ds = pd.read_csv(filePath+\"heart-disease.csv\")\n",
        "pd.set_option(\"display.precision\", 2)"
      ]
    },
    {
      "cell_type": "code",
      "source": [
        "ds.head(5)"
      ],
      "metadata": {
        "id": "XXdran7P74Ls"
      },
      "execution_count": null,
      "outputs": []
    },
    {
      "cell_type": "markdown",
      "metadata": {
        "id": "fPL48rYV0LrL"
      },
      "source": [
        "## 1 - Splitting a Dataset\n",
        "\n",
        "Data splitting involves dividing a dataset into training, validation, and testing subsets."
      ]
    },
    {
      "cell_type": "code",
      "execution_count": null,
      "metadata": {
        "id": "8FavTfe91L7O"
      },
      "outputs": [],
      "source": [
        "ds.info()"
      ]
    },
    {
      "cell_type": "markdown",
      "source": [
        "### *Check Missing values*"
      ],
      "metadata": {
        "id": "MR5G7eBNKUeb"
      }
    },
    {
      "cell_type": "code",
      "source": [
        "#check missing values\n",
        "ds.isnull().sum()\n",
        "\n",
        "#or\n",
        "#n1 = ds.isnull().any(axis=1)\n",
        "#n1\n",
        "#answer: zero null values\n",
        "\n",
        "#or\n",
        "#ds.columns[ds.isnull().any()]\n",
        "\n",
        "#or\n",
        "#missing value counts in each of these columns\n",
        "#miss = ds.isnull().sum()/len(ds)\n",
        "#miss = ds[miss > 0]\n",
        "#miss.sort_values(inplace=True)\n",
        "#miss\n"
      ],
      "metadata": {
        "id": "ubQo369HKXtt"
      },
      "execution_count": null,
      "outputs": []
    },
    {
      "cell_type": "markdown",
      "source": [
        "### Visualizing the Dataset"
      ],
      "metadata": {
        "id": "Blt18lM28sir"
      }
    },
    {
      "cell_type": "markdown",
      "source": [
        "Several examples"
      ],
      "metadata": {
        "id": "ww1EURTYPZuj"
      }
    },
    {
      "cell_type": "code",
      "source": [
        "# total of heart deseases for men between 20 and 40\n",
        "filter = ds.query(\"(age  <= 40) & (age >= 20) & (sex == 1) & target==1\")['target'].value_counts()\n",
        "filter.plot(kind='bar',figsize=(5,5), legend=True, title=\"Total od Heart Desieses for Men in 20-40\")\n",
        "#filter"
      ],
      "metadata": {
        "id": "8_X8mFH_KG6A"
      },
      "execution_count": null,
      "outputs": []
    },
    {
      "cell_type": "code",
      "source": [
        "#see https://colab.research.google.com/github/jakevdp/PythonDataScienceHandbook/blob/master/notebooks/05.02-Introducing-Scikit-Learn.ipynb#scrollTo=5IOss1GZkUrm\n",
        "%matplotlib inline\n",
        "dr=ds[(ds['age']>=20) & (ds['age']<40) & ds['sex']==1][['age','target']]\n",
        "#check dr type\n",
        "type(dr)\n",
        "sns.pairplot(dr,hue='target', height=4,);"
      ],
      "metadata": {
        "id": "8DEnbY718vPy"
      },
      "execution_count": null,
      "outputs": []
    },
    {
      "cell_type": "code",
      "source": [
        "top_10 = ds['sex'].value_counts()[:10]\n",
        "#or\n",
        "#top_10 = ds['sex'].value_counts().head()\n",
        "\n",
        "top_10.plot(kind='bar',figsize=(5,5))\n",
        "plt.title('Heart Diseases by Sex (top 10)')\n",
        "plt.xlabel('Sex')\n",
        "plt.ylabel('Number of Heart Desease')"
      ],
      "metadata": {
        "id": "VwSp-2wbKWmp"
      },
      "execution_count": null,
      "outputs": []
    },
    {
      "cell_type": "markdown",
      "source": [
        "### Check correlation among all features"
      ],
      "metadata": {
        "id": "CxA_OlAMTXcG"
      }
    },
    {
      "cell_type": "code",
      "source": [
        "plt.figure(figsize=(15,10))\n",
        "sns.heatmap(ds.corr(),linewidth=.01,annot=True,cmap=\"winter\")\n",
        "plt.show()"
      ],
      "metadata": {
        "id": "qdQH6hKgTa6O"
      },
      "execution_count": null,
      "outputs": []
    },
    {
      "cell_type": "code",
      "source": [
        "# for each feature a distribution bar char\n",
        "ds.hist(figsize=(12,12))\n",
        "plt.show()\n"
      ],
      "metadata": {
        "id": "lVsDARMPU3H_"
      },
      "execution_count": null,
      "outputs": []
    },
    {
      "cell_type": "markdown",
      "source": [
        "### Extracting the features matrix and target array"
      ],
      "metadata": {
        "id": "27aW24kt9Jpt"
      }
    },
    {
      "cell_type": "markdown",
      "source": [
        "*Shuffle the original data*"
      ],
      "metadata": {
        "id": "0_T8_SkeNX8u"
      }
    },
    {
      "cell_type": "code",
      "source": [
        "# shuffle the DataFrame rows\n",
        "dsc = ds.copy()\n",
        "dsc= dsc.sample(frac = 1)   #100%, random, suffle\n",
        "dsc.head(5)\n",
        "\n",
        "#compare with initial dataset\n",
        "#ds.head(5)"
      ],
      "metadata": {
        "id": "TYs3JcZuNYKR"
      },
      "execution_count": null,
      "outputs": []
    },
    {
      "cell_type": "markdown",
      "source": [
        "*Features Matrix*\n",
        "\n",
        "1. Main features (matrix)\n",
        "2. Target Feature (Label | Categorial Target) (column)\n"
      ],
      "metadata": {
        "id": "xYndRI1FYnWs"
      }
    },
    {
      "cell_type": "code",
      "source": [
        "#Steps\n",
        "\n",
        "#1 - Dvide the data into features (X) and labels (y)\n",
        "\n",
        "#dataframe with all features variables\n",
        "X_dsc = ds.drop('target', axis=1)   # use all columns except the target one\n",
        "#or\n",
        "#X_dsc = ds['target']\n",
        "\n",
        "#analyse\n",
        "X_dsc.shape\n",
        "#X_dsc"
      ],
      "metadata": {
        "id": "aQR-lADc9MBB"
      },
      "execution_count": null,
      "outputs": []
    },
    {
      "cell_type": "markdown",
      "source": [
        "*Target array*\n",
        "\n",
        "'y' labels"
      ],
      "metadata": {
        "id": "c8dRe1wGZMkB"
      }
    },
    {
      "cell_type": "code",
      "source": [
        "#who has target >0\n",
        "#dsc_t=dsc.target[dsc.target> 0]\n",
        "#dsc_t"
      ],
      "metadata": {
        "id": "IVOlbmItWXr0"
      },
      "execution_count": null,
      "outputs": []
    },
    {
      "cell_type": "code",
      "source": [
        "#2 - Get dependent feature (target)\n",
        "# Series with the target value (dependent feature)\n",
        "y_dsc = dsc['target']         # we want to predict y using X\n",
        "y_dsc.shape\n",
        "#y_dsc"
      ],
      "metadata": {
        "id": "7LMZn_ub-1ul"
      },
      "execution_count": null,
      "outputs": []
    },
    {
      "cell_type": "markdown",
      "source": [
        "*Split*"
      ],
      "metadata": {
        "id": "ovg8hZefZFJa"
      }
    },
    {
      "cell_type": "code",
      "source": [
        "#library to split our data into train and test sets\n",
        "#train, test = train_test_split(dataset, ...)\n",
        "\n",
        "#Note: random_state is a hyperparameter\n",
        "# random_state=none - the function generate different datasets in each execution.\n",
        "#                     we get different train and test sets across different executions\n",
        "# random_state=40 - (like seed) the function generate the same datatsets\n",
        "\n",
        "#1 - Split the dataset: tes=25%; training=75%\n",
        "# test size=25%\n",
        "X_train, X_test, y_train, y_test = train_test_split(X_dsc,y_dsc,test_size=0.25,random_state=40)\n",
        "#or\n",
        "# train size=80%\n",
        "#X_train, X_test, y_train, y_test=train_test_split(X_dsc,y_dsc,train_size=0.8,random_state=40)\n"
      ],
      "metadata": {
        "id": "Ro6ZwKO6KYwL"
      },
      "execution_count": null,
      "outputs": []
    },
    {
      "cell_type": "code",
      "source": [
        "# Train dataset (75%)\n",
        "X_train\n",
        "# 75%\n",
        "print(len(X_train)*100/len(dsc))"
      ],
      "metadata": {
        "id": "t_KzInJBKtNU"
      },
      "execution_count": null,
      "outputs": []
    },
    {
      "cell_type": "code",
      "source": [
        "X_train.shape"
      ],
      "metadata": {
        "id": "dq62eX1WAtVa"
      },
      "execution_count": null,
      "outputs": []
    },
    {
      "cell_type": "code",
      "source": [
        "# Test dataset (25%)\n",
        "X_test.shape\n",
        "# 25%\n",
        "print(len(X_test)*100/len(dsc))"
      ],
      "metadata": {
        "id": "YvBpR2vqAw7a"
      },
      "execution_count": null,
      "outputs": []
    },
    {
      "cell_type": "code",
      "source": [
        "y_train"
      ],
      "metadata": {
        "id": "TZTMuWLZAx0F"
      },
      "execution_count": null,
      "outputs": []
    },
    {
      "cell_type": "code",
      "source": [
        "y_test"
      ],
      "metadata": {
        "id": "tIeNvNbPA-Vd"
      },
      "execution_count": null,
      "outputs": []
    },
    {
      "cell_type": "markdown",
      "source": [
        "### Stratified train-test split"
      ],
      "metadata": {
        "id": "y15TwShTYFF-"
      }
    },
    {
      "cell_type": "markdown",
      "source": [
        "Split the dataset into train and test sets in a way that preserves the same proportions of examples in each class as observed in the original dataset."
      ],
      "metadata": {
        "id": "XNcFLNp4Ywzy"
      }
    },
    {
      "cell_type": "markdown",
      "source": [
        "Split without stratify"
      ],
      "metadata": {
        "id": "-CBZptqmburD"
      }
    },
    {
      "cell_type": "code",
      "source": [
        "from collections import Counter\n",
        "#split again\n",
        "X_train, X_test, y_train, y_test=train_test_split(X_dsc,y_dsc,test_size=0.5,random_state=40)\n",
        "print(Counter(y_dsc))\n",
        "print(Counter(y_train))\n",
        "print(Counter(y_test))\n",
        "# Analysis:\n",
        "# train and test dataset have significantly  different number of samples"
      ],
      "metadata": {
        "id": "HvsaS5wVZVZE"
      },
      "execution_count": null,
      "outputs": []
    },
    {
      "cell_type": "code",
      "source": [
        "len(dsc)"
      ],
      "metadata": {
        "id": "cInVvzFFbhqe"
      },
      "execution_count": null,
      "outputs": []
    },
    {
      "cell_type": "markdown",
      "source": [
        "Split with stratification"
      ],
      "metadata": {
        "id": "cD4QuOX4b2JN"
      }
    },
    {
      "cell_type": "code",
      "source": [
        "#split again with stratification\n",
        "X_train, X_test, y_train, y_test=train_test_split(X_dsc,y_dsc,test_size=0.5,random_state=40, stratify=y_dsc)\n",
        "print(Counter(y_dsc))\n",
        "print(Counter(y_train))\n",
        "print(Counter(y_test))\n",
        "# Analysis:\n",
        "# train and test dataset have almost the same samples"
      ],
      "metadata": {
        "id": "Vik9gHmlb6jb"
      },
      "execution_count": null,
      "outputs": []
    },
    {
      "cell_type": "markdown",
      "source": [
        "End!"
      ],
      "metadata": {
        "id": "6xuArbnHNSId"
      }
    }
  ],
  "metadata": {
    "colab": {
      "provenance": [],
      "include_colab_link": true
    },
    "kernelspec": {
      "display_name": "Python 3",
      "name": "python3"
    },
    "language_info": {
      "name": "python"
    }
  },
  "nbformat": 4,
  "nbformat_minor": 0
}