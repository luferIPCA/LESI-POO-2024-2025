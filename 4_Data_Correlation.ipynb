{
  "cells": [
    {
      "cell_type": "markdown",
      "metadata": {
        "id": "view-in-github",
        "colab_type": "text"
      },
      "source": [
        "<a href=\"https://colab.research.google.com/github/luferIPCA/LESI-POO-2024-2025/blob/main/4_Data_Correlation.ipynb\" target=\"_parent\"><img src=\"https://colab.research.google.com/assets/colab-badge.svg\" alt=\"Open In Colab\"/></a>"
      ]
    },
    {
      "cell_type": "markdown",
      "metadata": {
        "id": "c1kf9qddTM4D"
      },
      "source": [
        "# Masters' in Applied Artificial Intelligence\n",
        "## Machine Learning Algorithms Course\n",
        "\n",
        "Notebooks for MLA course\n",
        "\n",
        "by [*lufer*](mailto:lufer@ipca.pt)\n",
        "\n",
        "---\n",
        "\n"
      ]
    },
    {
      "cell_type": "markdown",
      "metadata": {
        "id": "3yc6mD0jVeWN"
      },
      "source": [
        "# ML Modelling - Part II\n",
        "\n",
        "**Contents**:\n",
        "\n",
        "1.  **Data Correlation**\n",
        "\n"
      ]
    },
    {
      "cell_type": "markdown",
      "metadata": {
        "id": "GP-NymupVL02"
      },
      "source": [
        "## Environment preparation\n"
      ]
    },
    {
      "cell_type": "markdown",
      "metadata": {
        "id": "-3Rm857IVoPe"
      },
      "source": [
        "### Importing necessary Libraries"
      ]
    },
    {
      "cell_type": "code",
      "source": [
        "#!pip install pandas-profiling"
      ],
      "metadata": {
        "id": "Q2rIZltxBAz-"
      },
      "execution_count": null,
      "outputs": []
    },
    {
      "cell_type": "code",
      "execution_count": null,
      "metadata": {
        "id": "vA1MzNI4TU_q"
      },
      "outputs": [],
      "source": [
        "import pandas as pd\n",
        "import numpy as np\n",
        "import seaborn as sns\n",
        "import matplotlib.pyplot as plt\n",
        "\n",
        "#from pandas_profiling import ProfileRepor   #see https://www.kaggle.com/discussions/general/233785\n",
        "from scipy import stats"
      ]
    },
    {
      "cell_type": "markdown",
      "metadata": {
        "id": "bDLxcgMwJEYA"
      },
      "source": [
        "Mounting Drive"
      ]
    },
    {
      "cell_type": "code",
      "execution_count": null,
      "metadata": {
        "id": "qxFY0ypTJJK9"
      },
      "outputs": [],
      "source": [
        "\n",
        "from google.colab import drive\n",
        "\n",
        "# it will ask for your google drive credentiaals\n",
        "drive.mount('/content/gDrive/', force_remount=True)"
      ]
    },
    {
      "cell_type": "code",
      "source": [
        "import os\n",
        "print(os.getcwd())"
      ],
      "metadata": {
        "id": "Q0rZqXSFJsni"
      },
      "execution_count": null,
      "outputs": []
    },
    {
      "cell_type": "markdown",
      "source": [
        "## 1 - Correlations in Dataset"
      ],
      "metadata": {
        "id": "MR5G7eBNKUeb"
      }
    },
    {
      "cell_type": "markdown",
      "source": [
        "Essential Data Correlations  using Pandas *corr()*"
      ],
      "metadata": {
        "id": "prALn3NOz7_D"
      }
    },
    {
      "cell_type": "markdown",
      "source": [
        "### **Example 1:** Heart Disease"
      ],
      "metadata": {
        "id": "VvvV1mV3rpef"
      }
    },
    {
      "cell_type": "markdown",
      "metadata": {
        "id": "IrlsXAs4I0AZ"
      },
      "source": [
        "*Loading dataset*"
      ]
    },
    {
      "cell_type": "code",
      "execution_count": null,
      "metadata": {
        "id": "IRpURt1tI2Sf"
      },
      "outputs": [],
      "source": [
        "\n",
        "import os\n",
        "#print(os.getcwd())\n",
        "\n",
        "filePath='/content/gDrive/MyDrive/Colab Notebooks/MIA - ML - 2024-2025/Datasets/'\n",
        "ds = pd.read_csv(filePath+\"heart-disease.csv\")\n",
        "pd.set_option(\"display.precision\", 2)"
      ]
    },
    {
      "cell_type": "code",
      "source": [
        "ds.head()\n",
        "#len(ds)"
      ],
      "metadata": {
        "id": "XXdran7P74Ls"
      },
      "execution_count": null,
      "outputs": []
    },
    {
      "cell_type": "code",
      "source": [
        "#Example of correlation distribution\n",
        "ax1 = ds.head().plot.scatter(x='thalach',\n",
        "                      y='chol',\n",
        "                      c='DarkBlue')"
      ],
      "metadata": {
        "id": "10yrUMAb1Mwq"
      },
      "execution_count": null,
      "outputs": []
    },
    {
      "cell_type": "markdown",
      "source": [
        "***Correlation distribution***"
      ],
      "metadata": {
        "id": "MIAwlm5r0AqR"
      }
    },
    {
      "cell_type": "code",
      "source": [
        "#corr() calculate variables correlations\n",
        "print(ds.corr())\n",
        "# Answer\n",
        "# Strong negative correlation example: between thal thalach"
      ],
      "metadata": {
        "id": "MiQzx49C0HvL"
      },
      "execution_count": null,
      "outputs": []
    },
    {
      "cell_type": "markdown",
      "source": [
        "***Correlation Matrix with Seaborn***"
      ],
      "metadata": {
        "id": "aYdHiqWi3WVq"
      }
    },
    {
      "cell_type": "code",
      "source": [
        "plt.figure(figsize=(20, 10))\n",
        "sns.heatmap(ds.corr(),  annot=True)"
      ],
      "metadata": {
        "id": "wg17J4Sr3ZbE"
      },
      "execution_count": null,
      "outputs": []
    },
    {
      "cell_type": "markdown",
      "source": [
        "***Dataframe Correlation using Pearson r***"
      ],
      "metadata": {
        "id": "rj7-oe1Ez_y7"
      }
    },
    {
      "cell_type": "code",
      "source": [
        "# To find the correlation among all columns using pearson method\n",
        "ds.corr(method='pearson')"
      ],
      "metadata": {
        "id": "qwiAp37w0eag"
      },
      "execution_count": null,
      "outputs": []
    },
    {
      "cell_type": "markdown",
      "source": [
        "***Dataframe Correlation using Kendal p***"
      ],
      "metadata": {
        "id": "c7xZg2zK08B_"
      }
    },
    {
      "cell_type": "code",
      "source": [
        "# To find the correlation among all columns using kendall method\n",
        "ds.corr(method='kendall')"
      ],
      "metadata": {
        "id": "BEL3OYOV08Zu"
      },
      "execution_count": null,
      "outputs": []
    },
    {
      "cell_type": "markdown",
      "source": [
        "### **Example 2:** Students and Classes"
      ],
      "metadata": {
        "id": "hhx3uepxzhAo"
      }
    },
    {
      "cell_type": "markdown",
      "source": [
        "*Loading dataset*"
      ],
      "metadata": {
        "id": "fdy-rBEzz42K"
      }
    },
    {
      "cell_type": "code",
      "source": [
        "# students and Classes\n",
        "df = {\n",
        "    \"Faltas\": [8, 2, 5, 12, 15, 9, 6],\n",
        "    \"Nota\": [78,92,90,58,43,74,81]\n",
        "}\n",
        "\n",
        "data = pd.DataFrame(df)\n",
        "\n",
        "ax1 = data.plot.scatter(x='Faltas',\n",
        "                      y='Nota',\n",
        "                      c='DarkBlue')"
      ],
      "metadata": {
        "id": "sUOoHK4hDu1v"
      },
      "execution_count": null,
      "outputs": []
    },
    {
      "cell_type": "markdown",
      "source": [
        "***Correlation distribution***"
      ],
      "metadata": {
        "id": "EmIUYBDAqkn-"
      }
    },
    {
      "cell_type": "code",
      "source": [
        "# Calculate the Pearson correlation\n",
        "correlation = data[\"Faltas\"].corr(data[\"Nota\"])\n",
        "print(f\"Pearson Correlation: {correlation}\")"
      ],
      "metadata": {
        "id": "0GXiGYKFkuvY"
      },
      "execution_count": null,
      "outputs": []
    },
    {
      "cell_type": "code",
      "source": [
        "#corr() calculate variables correlations using Person method, by default!\n",
        "print(data.corr())\n",
        "# Answer\n",
        "# Strong negative correlation"
      ],
      "metadata": {
        "id": "ubQo369HKXtt"
      },
      "execution_count": null,
      "outputs": []
    },
    {
      "cell_type": "code",
      "source": [
        "# Calculate the Kendall correlation\n",
        "kendall_correlation = data[\"Faltas\"].corr(data[\"Nota\"], method='kendall')\n",
        "print(f\"Kendall Correlation: {kendall_correlation}\")"
      ],
      "metadata": {
        "id": "yf4NcbaDleG2"
      },
      "execution_count": null,
      "outputs": []
    },
    {
      "cell_type": "code",
      "source": [
        "# Calculate the Spearman correlation\n",
        "spearman_correlation = data[\"Faltas\"].corr(data[\"Nota\"], method='spearman')\n",
        "print(f\"Spearman Correlation: {spearman_correlation}\")"
      ],
      "metadata": {
        "id": "zBfjN-Cll2Zd"
      },
      "execution_count": null,
      "outputs": []
    },
    {
      "cell_type": "markdown",
      "source": [
        "***Visualizing correlations with Seaborn***"
      ],
      "metadata": {
        "id": "ViWuACCi23DQ"
      }
    },
    {
      "cell_type": "code",
      "source": [
        "plt.figure(figsize=(10, 5))\n",
        "sns.heatmap(data.corr().abs(),  annot=True)"
      ],
      "metadata": {
        "id": "rli2wq3f25k6"
      },
      "execution_count": null,
      "outputs": []
    },
    {
      "cell_type": "markdown",
      "source": [
        "\\\n",
        "### **Example 3:** - Games and Points"
      ],
      "metadata": {
        "id": "lCTMqyXNrvmc"
      }
    },
    {
      "cell_type": "markdown",
      "metadata": {
        "id": "8d0d057bzhAv"
      },
      "source": [
        "*Loading dataset*"
      ]
    },
    {
      "cell_type": "code",
      "source": [
        "# students and Classes\n",
        "df = {\n",
        "    \"Jogos\": [1, 2, 3, 4, 5, 6],\n",
        "    \"Pontos\": [42,131,219,308,396,485]\n",
        "}\n",
        "\n",
        "data = pd.DataFrame(df)\n",
        "\n",
        "ax1 = data.plot.scatter(x='Jogos',\n",
        "                      y='Pontos',\n",
        "                      c='DarkBlue')"
      ],
      "metadata": {
        "id": "-uikbcp6sB3E"
      },
      "execution_count": null,
      "outputs": []
    },
    {
      "cell_type": "markdown",
      "source": [
        "***Using Seaborn Heatmap***\n"
      ],
      "metadata": {
        "id": "QffrZ1Nm40zX"
      }
    },
    {
      "cell_type": "code",
      "execution_count": null,
      "metadata": {
        "id": "A50Rm4E2sLhq"
      },
      "outputs": [],
      "source": [
        "plt.figure(figsize=(10, 5))\n",
        "sns.heatmap(data.corr(),  annot=True)"
      ]
    },
    {
      "cell_type": "markdown",
      "source": [
        "***Persons r Using Correlation Matrix***"
      ],
      "metadata": {
        "id": "TVCWHHUT5CRt"
      }
    },
    {
      "cell_type": "code",
      "source": [
        "#corr() calculate variables correlations\n",
        "correlation_pearson = data.corr()\n",
        "correlation_pearson\n",
        "# Answer\n",
        "# Strong positive correlation"
      ],
      "metadata": {
        "id": "LHG60uz7sLhq"
      },
      "execution_count": null,
      "outputs": []
    },
    {
      "cell_type": "markdown",
      "source": [
        "***Spearman t Correlation***"
      ],
      "metadata": {
        "id": "Z2cssGXe6AZh"
      }
    },
    {
      "cell_type": "code",
      "source": [
        "# Calcula a correlação de Spearman\n",
        "correlation_spearman = data.corr(method='spearman')\n",
        "correlation_spearman"
      ],
      "metadata": {
        "id": "WXNNjOTL6ImH"
      },
      "execution_count": null,
      "outputs": []
    },
    {
      "cell_type": "markdown",
      "source": [
        "\n",
        "\\\n"
      ],
      "metadata": {
        "id": "OWUshbCss1D3"
      }
    },
    {
      "cell_type": "markdown",
      "source": [
        "### ***Example 4: - Boston House***\n",
        "\n",
        "See [Boston House Dataset](https://www.kaggle.com/code/prasadperera/the-boston-housing-dataset)\n",
        "\n"
      ],
      "metadata": {
        "id": "OV8SlxoD5sA0"
      }
    },
    {
      "cell_type": "code",
      "source": [
        "\n",
        "ds2 = pd.read_csv(filePath+\"BostonHousing.csv\")\n",
        "pd.set_option(\"display.precision\", 2) #controls the decimal output"
      ],
      "metadata": {
        "id": "zz_utQMK6XJw"
      },
      "execution_count": null,
      "outputs": []
    },
    {
      "cell_type": "code",
      "source": [
        "ds2.head()"
      ],
      "metadata": {
        "id": "nODXVCCJ6h1K"
      },
      "execution_count": null,
      "outputs": []
    },
    {
      "cell_type": "code",
      "source": [
        "# how many numerical features?\n",
        "# see all existing features\n",
        "ds2.select_dtypes(include=np.number).columns\n"
      ],
      "metadata": {
        "id": "XNwq6DTe6zJa"
      },
      "execution_count": null,
      "outputs": []
    },
    {
      "cell_type": "code",
      "source": [
        "ds2.dtypes\n",
        "#answer\n",
        "#none! all features are numerical"
      ],
      "metadata": {
        "id": "a65gRCwskcv1"
      },
      "execution_count": null,
      "outputs": []
    },
    {
      "cell_type": "code",
      "source": [
        "#other perspective\n",
        "#select only the numeric columns in the DataFrame\n",
        "ds2.select_dtypes(include=np.number)"
      ],
      "metadata": {
        "id": "xh0BGWBr7GZM"
      },
      "execution_count": null,
      "outputs": []
    },
    {
      "cell_type": "code",
      "source": [
        "#check features types\n",
        "# Checking values type\n",
        "result = ds2.applymap(np.isreal)\n",
        "\n",
        "# Display result\n",
        "print(\"Result:\\n\",result)\n",
        "#true means numerical\n",
        "#false means non numerical"
      ],
      "metadata": {
        "id": "3mJsK1Da7qQe"
      },
      "execution_count": null,
      "outputs": []
    },
    {
      "cell_type": "markdown",
      "source": [
        "Correlation Matrix"
      ],
      "metadata": {
        "id": "kw312t0pGZcw"
      }
    },
    {
      "cell_type": "code",
      "source": [
        "#get correlations\n",
        "plt.figure(figsize=(20, 10))\n",
        "sns.heatmap(ds2.corr(),  annot=True)"
      ],
      "metadata": {
        "id": "PIrW3_Nm8JzZ"
      },
      "execution_count": null,
      "outputs": []
    },
    {
      "cell_type": "markdown",
      "source": [
        "\n",
        "\n",
        "*   “tax” and “rad” columns are highly correlated with a value of 0.92 (positive correlation).\n",
        "*   The columns LSTAT, INDUS, RM, TAX, NOX, PTRAIO has a correlation score above 0.5 with MEDV which is a good indication of using as predictors"
      ],
      "metadata": {
        "id": "AcmxyiT054RT"
      }
    },
    {
      "cell_type": "markdown",
      "source": [
        "Exercise: Calculate the most correlated features?"
      ],
      "metadata": {
        "id": "TUBjLxL4uSOK"
      }
    },
    {
      "cell_type": "code",
      "source": [
        "#?\n",
        "\n",
        "#Got it?\n",
        "#continue reading the notebook!"
      ],
      "metadata": {
        "id": "0h_vpDtauWnt"
      },
      "execution_count": null,
      "outputs": []
    },
    {
      "cell_type": "markdown",
      "source": [
        "### **Filtering out self-correlations**\n",
        "\n",
        "Self-correlations are always 1, thus it can be ignored!"
      ],
      "metadata": {
        "id": "jZ57A43z5aoR"
      }
    },
    {
      "cell_type": "code",
      "source": [
        "import pandas as pd\n",
        "\n",
        "# Extend the DataFrame with new features\n",
        "data = {\n",
        "    \"Faltas\": [8, 2, 5, 12, 15, 9, 6],\n",
        "    \"Nota\": [78, 92, 90, 58, 43, 74, 81],\n",
        "    \"Estudo\": [10, 25, 20, 5, 3, 15, 18],\n",
        "    \"Participação\": [80, 95, 90, 50, 40, 75, 85]\n",
        "}\n",
        "\n",
        "df = pd.DataFrame(data)\n",
        "print(df)"
      ],
      "metadata": {
        "id": "8XrfFYQFXrw-"
      },
      "execution_count": null,
      "outputs": []
    },
    {
      "cell_type": "markdown",
      "source": [
        "Compute the Correlation Matrix"
      ],
      "metadata": {
        "id": "WojfLXUYXrw_"
      }
    },
    {
      "cell_type": "code",
      "source": [
        "# Calculate the correlation matrix\n",
        "correlation_matrix = df.corr()\n",
        "\n",
        "print(\"Correlation Matrix:\")\n",
        "correlation_matrix"
      ],
      "metadata": {
        "id": "u5ggcuK7XrxA"
      },
      "execution_count": null,
      "outputs": []
    },
    {
      "cell_type": "code",
      "source": [
        "#Filtering Out Self-Correlations\n",
        "# Unstack the correlation matrix\n",
        "corr_pairs = correlation_matrix.unstack()"
      ],
      "metadata": {
        "id": "tKU2ELjvu6hz"
      },
      "execution_count": null,
      "outputs": []
    },
    {
      "cell_type": "code",
      "source": [
        "corr_pairs"
      ],
      "metadata": {
        "id": "8qY1MR9iuxr-"
      },
      "execution_count": null,
      "outputs": []
    },
    {
      "cell_type": "code",
      "source": [
        "\n",
        "\n",
        "# Filter out self-correlations (where feature pairs are the same)\n",
        "filtered_corr_pairs = corr_pairs[corr_pairs.index.get_level_values(0) != corr_pairs.index.get_level_values(1)]\n",
        "\n",
        "# Sort the remaining pairs in descending order of correlation\n",
        "filtered_corr_pairs = filtered_corr_pairs.sort_values(kind=\"quicksort\", ascending=True)\n",
        "\n",
        "print(filtered_corr_pairs)"
      ],
      "metadata": {
        "id": "qyVuTCY85Y3H"
      },
      "execution_count": null,
      "outputs": []
    },
    {
      "cell_type": "code",
      "source": [
        "#What this instructuon does?\n",
        "corr_pairs.index.duplicated()\n",
        "\n",
        "#there is no repeated index"
      ],
      "metadata": {
        "id": "p3gG03MrQWRT"
      },
      "execution_count": null,
      "outputs": []
    },
    {
      "cell_type": "code",
      "source": [
        "#Explanation: what does means?\n",
        "#corr_pairs[corr_pairs.index.get_level_values(0) != corr_pairs.index.get_level_values(1)]\n",
        "\n",
        "#analyse separately\n",
        "#corr_pairs\n",
        "#corr_pairs.index\n",
        "#print(type(corr_pairs.index))\n",
        "#corr_pairs.index.get_level_values(0)\n",
        "\n",
        "#get_level_values(0) and get_level_values(1):\n",
        "#These retrieve the first and second elements of the multi-level index of the Series created by unstack().\n"
      ],
      "metadata": {
        "id": "C1YcGuNI-N6p"
      },
      "execution_count": null,
      "outputs": []
    },
    {
      "cell_type": "markdown",
      "source": [
        "End!"
      ],
      "metadata": {
        "id": "7_CDXc2_kPMJ"
      }
    },
    {
      "cell_type": "markdown",
      "source": [
        "## 2 - Selecting Features\n",
        "\n",
        "What feature can be \"excluded\" for the training process?\n",
        "Whar are irrelevant features"
      ],
      "metadata": {
        "id": "gPdjzC99pyIR"
      }
    },
    {
      "cell_type": "code",
      "source": [
        "import pandas as pd\n",
        "\n",
        "# Extend the DataFrame with new features\n",
        "data = {\n",
        "    \"Faltas\": [8, 2, 5, 12, 15, 9, 6],\n",
        "    \"Nota\": [78, 92, 90, 58, 43, 74, 81],\n",
        "    \"Estudo\": [10, 25, 20, 5, 3, 15, 18],\n",
        "    \"Participação\": [80, 95, 90, 50, 40, 75, 85]\n",
        "}\n",
        "\n",
        "df = pd.DataFrame(data)\n",
        "print(df)"
      ],
      "metadata": {
        "id": "CaDyr5nEp2m8"
      },
      "execution_count": null,
      "outputs": []
    },
    {
      "cell_type": "markdown",
      "source": [
        "Compute the Correlation Matrix"
      ],
      "metadata": {
        "id": "mGuOEfyXqCsh"
      }
    },
    {
      "cell_type": "code",
      "source": [
        "# Calculate the correlation matrix\n",
        "correlation_matrix = df.corr()\n",
        "\n",
        "print(\"Correlation Matrix:\")\n",
        "correlation_matrix"
      ],
      "metadata": {
        "id": "vXvSlmy4p_kA"
      },
      "execution_count": null,
      "outputs": []
    },
    {
      "cell_type": "markdown",
      "source": [
        " Select Feature to Exclude\n",
        " * Suppose *Nota* as the target variable\n",
        "\n",
        " * Look for features with weak correlations with the target variable or high correlations with other features (redundancy).\n",
        "\n",
        "* Visualize the correlations using a heatmap (with libraries like seaborn - optional)."
      ],
      "metadata": {
        "id": "wnf1Hrb_qJcV"
      }
    },
    {
      "cell_type": "markdown",
      "source": [
        "### Look for weak correlations"
      ],
      "metadata": {
        "id": "73yWovzzZIwa"
      }
    },
    {
      "cell_type": "code",
      "source": [
        "#correlation between Nota and the others features\n",
        "correlation_matrix['Nota']\n",
        "#interpret it!\n",
        "\n",
        "#extremely strong positive bewtween Nota and Study. What that means?\n",
        "#Extremely strong positive bewtween Nota and Participation. What that means?\n",
        "#Extremely strong negative bewtween Nota and Faltas. What that means?"
      ],
      "metadata": {
        "id": "dapZDKmPwGuu"
      },
      "execution_count": null,
      "outputs": []
    },
    {
      "cell_type": "code",
      "source": [
        "correlation_matrix[\"Nota\"].idxmin()"
      ],
      "metadata": {
        "id": "CuuXwd0ZrXLp"
      },
      "execution_count": null,
      "outputs": []
    },
    {
      "cell_type": "code",
      "source": [
        "# Find the feature with the weakest correlation with 'Nota'\n",
        "correlations_with_nota = correlation_matrix[\"Nota\"].drop(\"Nota\")\n",
        "feature_to_exclude = correlations_with_nota.idxmin()\n",
        "\n",
        "print(f\"The feature to exclude is: {feature_to_exclude}\")"
      ],
      "metadata": {
        "id": "ug1y4bMlqcH9"
      },
      "execution_count": null,
      "outputs": []
    },
    {
      "cell_type": "markdown",
      "source": [
        "### Visualizing"
      ],
      "metadata": {
        "id": "knVNFhirqsp7"
      }
    },
    {
      "cell_type": "code",
      "source": [
        "import seaborn as sns\n",
        "import matplotlib.pyplot as plt\n",
        "\n",
        "sns.heatmap(correlation_matrix, annot=True)\n",
        "#what it does?\n",
        "#sns.heatmap(correlation_matrix, annot=True,cmap='coolwarm')\n",
        "plt.title(\"Correlation Matrix\")\n",
        "plt.show()"
      ],
      "metadata": {
        "id": "k-KmHstrqt_i"
      },
      "execution_count": null,
      "outputs": []
    },
    {
      "cell_type": "markdown",
      "source": [
        "**Exclude the selected feature**"
      ],
      "metadata": {
        "id": "BstQVtIcq6-Q"
      }
    },
    {
      "cell_type": "code",
      "source": [
        "# Drop the feature from the DataFrame\n",
        "df_reduced = df.drop(columns=[feature_to_exclude])\n",
        "#or\n",
        "#df_reduced = df.drop(feature_to_exclude,axis=1)\n",
        "print(df_reduced)"
      ],
      "metadata": {
        "id": "ryUk3Kq9q9pI"
      },
      "execution_count": null,
      "outputs": []
    },
    {
      "cell_type": "markdown",
      "source": [
        "### **Another approach**"
      ],
      "metadata": {
        "id": "tO8dwGovY6WX"
      }
    },
    {
      "cell_type": "code",
      "source": [
        "\n",
        "# Plot the heatmap of the correlation matrix\n",
        "sns.heatmap(correlation_matrix, annot=True,cmap='coolwarm')\n",
        "plt.show()\n",
        "\n",
        "#corr_pairs = correlation_matrix.abs().unstack().sort_values(kind=\"quicksort\", ascending=False)\n",
        "#unstack(): pass 2D (matrix) for 1D serie, i.e, series of pairs of features\n",
        "corr_pairs = correlation_matrix.unstack().sort_values(kind=\"quicksort\", ascending=True)  #or mergesort; heapsort\n",
        "\n",
        "# Identify highly correlated pairs (example: more than 80%)\n",
        "threshold = 0.8\n",
        "high_corr = [(a, b) for a, b in corr_pairs.index if a != b and corr_pairs[(a, b)] > threshold]"
      ],
      "metadata": {
        "id": "XFbOJpps2e3V"
      },
      "execution_count": null,
      "outputs": []
    },
    {
      "cell_type": "code",
      "source": [
        "corr_pairs"
      ],
      "metadata": {
        "id": "94FBi4HU3UHh"
      },
      "execution_count": null,
      "outputs": []
    },
    {
      "cell_type": "code",
      "source": [
        "high_corr\n"
      ],
      "metadata": {
        "id": "8-noJ3xh3YwT"
      },
      "execution_count": null,
      "outputs": []
    },
    {
      "cell_type": "code",
      "source": [
        "corr_pairs.index\n",
        "#print(type(corr_pairs.index))\n",
        "#index is a pair of strings, in this case!"
      ],
      "metadata": {
        "id": "VyvKtVb9LBOA"
      },
      "execution_count": null,
      "outputs": []
    },
    {
      "cell_type": "code",
      "source": [],
      "metadata": {
        "id": "P23Yz6pSwmZF"
      },
      "execution_count": null,
      "outputs": []
    }
  ],
  "metadata": {
    "colab": {
      "provenance": [],
      "toc_visible": true,
      "include_colab_link": true
    },
    "kernelspec": {
      "display_name": "Python 3",
      "name": "python3"
    },
    "language_info": {
      "name": "python"
    }
  },
  "nbformat": 4,
  "nbformat_minor": 0
}